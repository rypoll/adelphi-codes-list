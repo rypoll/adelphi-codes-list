{
 "cells": [
  {
   "cell_type": "code",
   "execution_count": 2,
   "id": "bb672e8d-a46f-4158-8dc6-253e82287874",
   "metadata": {},
   "outputs": [
    {
     "name": "stdout",
     "output_type": "stream",
     "text": [
      "Excel sheet read successfully:\n",
      "Empty DataFrame\n",
      "Columns: [Code list, Relevant Event/ Synonym, Search Term, Full Search Term, Exec Draft, Manager Review, Search Term Finalised]\n",
      "Index: []\n"
     ]
    }
   ],
   "source": [
    "import pandas as pd\n",
    "\n",
    "# Specify the path to the Excel file and the sheet name\n",
    "file_path = '01-code-list-main-db.xlsx'\n",
    "sheet_name = 'main'\n",
    "\n",
    "# Use pandas to read the specified sheet\n",
    "try:\n",
    "    df = pd.read_excel(file_path, sheet_name=sheet_name)\n",
    "    print(\"Excel sheet read successfully:\")\n",
    "    print(df)\n",
    "except Exception as e:\n",
    "    print(f\"An error occurred: {e}\")\n"
   ]
  },
  {
   "cell_type": "markdown",
   "id": "dc38bc75-7d65-4d11-8b1e-98a4a30cd6c6",
   "metadata": {},
   "source": [
    "## Get synonyms for a disease"
   ]
  },
  {
   "cell_type": "code",
   "execution_count": null,
   "id": "46d5fa28-fd0b-4284-ba13-e3594ffe3d19",
   "metadata": {},
   "outputs": [],
   "source": []
  }
 ],
 "metadata": {
  "kernelspec": {
   "display_name": "Python 3 (ipykernel)",
   "language": "python",
   "name": "python3"
  },
  "language_info": {
   "codemirror_mode": {
    "name": "ipython",
    "version": 3
   },
   "file_extension": ".py",
   "mimetype": "text/x-python",
   "name": "python",
   "nbconvert_exporter": "python",
   "pygments_lexer": "ipython3",
   "version": "3.11.5"
  }
 },
 "nbformat": 4,
 "nbformat_minor": 5
}
