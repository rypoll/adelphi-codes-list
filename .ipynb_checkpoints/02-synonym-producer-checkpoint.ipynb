{
 "cells": [
  {
   "cell_type": "code",
   "execution_count": 12,
   "id": "bb672e8d-a46f-4158-8dc6-253e82287874",
   "metadata": {},
   "outputs": [
    {
     "name": "stdout",
     "output_type": "stream",
     "text": [
      "Excel sheet read successfully:\n",
      "  Code list  Relevant Event/ Synonym  Search Term  Full Search Term  \\\n",
      "0  Hayfever                      NaN          NaN               NaN   \n",
      "\n",
      "   Exec Draft  Manager Review  Search Term Finalised  \n",
      "0         NaN             NaN                    NaN  \n"
     ]
    }
   ],
   "source": [
    "import pandas as pd\n",
    "\n",
    "# Specify the path to the Excel file and the sheet name\n",
    "file_path = '01-code-list-main-db.xlsx'\n",
    "sheet_name = 'main'\n",
    "\n",
    "# Use pandas to read the specified sheet\n",
    "try:\n",
    "    df = pd.read_excel(file_path, sheet_name=sheet_name)\n",
    "    print(\"Excel sheet read successfully:\")\n",
    "    print(df)\n",
    "except Exception as e:\n",
    "    print(f\"An error occurred: {e}\")\n"
   ]
  },
  {
   "cell_type": "markdown",
   "id": "dc38bc75-7d65-4d11-8b1e-98a4a30cd6c6",
   "metadata": {},
   "source": [
    "## Get synonyms for a disease"
   ]
  },
  {
   "cell_type": "code",
   "execution_count": 13,
   "id": "46d5fa28-fd0b-4284-ba13-e3594ffe3d19",
   "metadata": {},
   "outputs": [
    {
     "name": "stdout",
     "output_type": "stream",
     "text": [
      "API Key loaded successfully: sk-pr\n"
     ]
    }
   ],
   "source": [
    "def read_api_key(file_path):\n",
    "    \"\"\"\n",
    "    Reads the OpenAI API key from a given text file.\n",
    "    \n",
    "    Args:\n",
    "    file_path (str): The path to the text file containing the API key.\n",
    "    \n",
    "    Returns:\n",
    "    str: The OpenAI API key.\n",
    "    \"\"\"\n",
    "    try:\n",
    "        with open(file_path, 'r') as file:\n",
    "            # Assuming the API key is on the first line of the file\n",
    "            api_key = file.readline().strip()\n",
    "            return api_key\n",
    "    except FileNotFoundError:\n",
    "        print(\"The file was not found.\")\n",
    "        return None\n",
    "    except Exception as e:\n",
    "        print(f\"An error occurred: {e}\")\n",
    "        return None\n",
    "\n",
    "# Usage\n",
    "api_key = read_api_key('00-openai-apikey-codes-list.txt')\n",
    "if api_key:\n",
    "    print(\"API Key loaded successfully:\", api_key[0:5])\n",
    "else:\n",
    "    print(\"Failed to load API Key.\")\n"
   ]
  },
  {
   "cell_type": "code",
   "execution_count": 17,
   "id": "ea278b54-0b1f-405a-88da-8142defc9403",
   "metadata": {},
   "outputs": [
    {
     "name": "stdin",
     "output_type": "stream",
     "text": [
      "What disease do you want to find the synonyms of?  Hayfever\n",
      "You entered 'Hayfever'. Is this correct? (yes/no):  yes\n"
     ]
    },
    {
     "name": "stdout",
     "output_type": "stream",
     "text": [
      "Warning: Similar entries found in the Database:\n",
      "hayfever\n"
     ]
    },
    {
     "name": "stdin",
     "output_type": "stream",
     "text": [
      "Similar entries found. Do you want to proceed anyway, enter a new name, or exit? (proceed/new/exit):  new\n"
     ]
    },
    {
     "name": "stdout",
     "output_type": "stream",
     "text": [
      "Please re-enter the disease name.\n"
     ]
    },
    {
     "name": "stdin",
     "output_type": "stream",
     "text": [
      "What disease do you want to find the synonyms of?  Hayfever\n",
      "You entered 'Hayfever'. Is this correct? (yes/no):  yes\n"
     ]
    },
    {
     "name": "stdout",
     "output_type": "stream",
     "text": [
      "Warning: Similar entries found in the Database:\n",
      "hayfever\n"
     ]
    },
    {
     "name": "stdin",
     "output_type": "stream",
     "text": [
      "Similar entries found. Do you want to proceed anyway, enter a new name, or exit? (proceed/new/exit):  proceed\n"
     ]
    },
    {
     "name": "stdout",
     "output_type": "stream",
     "text": [
      "Proceeding with the entered disease name.\n",
      "Disease to find synonyms for: Hayfever\n"
     ]
    }
   ],
   "source": [
    "import pandas as pd\n",
    "import difflib\n",
    "\n",
    "# Function to normalize text by removing spaces and converting to lower case\n",
    "def normalize_text(text):\n",
    "    return ''.join(text.lower().split())\n",
    "\n",
    "# Function to check for similar disease names in the DataFrame\n",
    "def find_similar_diseases(df, disease_name, column='Code list', threshold=0.8):\n",
    "    normalized_disease_name = normalize_text(disease_name)\n",
    "    normalized_column = df[column].apply(normalize_text)\n",
    "    \n",
    "    matches = []\n",
    "    for entry in normalized_column:\n",
    "        similarity = difflib.SequenceMatcher(None, normalized_disease_name, entry).ratio()\n",
    "        if similarity > threshold:\n",
    "            matches.append(entry)\n",
    "    \n",
    "    if matches:\n",
    "        print(\"Warning: Similar entries found in the Database:\")\n",
    "        for match in matches:\n",
    "            print(match)\n",
    "        return True\n",
    "    else:\n",
    "        return False\n",
    "\n",
    "def get_disease_name(df):\n",
    "    while True:\n",
    "        # Ask for the disease name\n",
    "        disease = input(\"What disease do you want to find the synonyms of? \")\n",
    "        \n",
    "        # Ask for confirmation\n",
    "        confirmation = input(f\"You entered '{disease}'. Is this correct? (yes/no): \")\n",
    "        \n",
    "        if confirmation.lower() == 'yes':\n",
    "            # Check for similar entries in the DataFrame\n",
    "            if find_similar_diseases(df, disease):\n",
    "                proceed = input(\"Similar entries found. Do you want to proceed anyway, enter a new name, or exit? (proceed/new/exit): \")\n",
    "                if proceed.lower() == 'proceed':\n",
    "                    print(\"Proceeding with the entered disease name.\")\n",
    "                    return disease\n",
    "                elif proceed.lower() == 'new':\n",
    "                    print(\"Please re-enter the disease name.\")\n",
    "                elif proceed.lower() == 'exit':\n",
    "                    print(\"Exiting the process.\")\n",
    "                    return None\n",
    "                else:\n",
    "                    print(\"Invalid option, please enter a valid choice (proceed, new, or exit).\")\n",
    "            else:\n",
    "                print(\"Disease name confirmed.\")\n",
    "                return disease\n",
    "        else:\n",
    "            print(\"Please re-enter the disease name.\")\n",
    "\n",
    "\n",
    "# Example DataFrame loading (replace with actual loading from your data source)\n",
    "# df = pd.read_csv('path_to_your_file.csv')\n",
    "\n",
    "# Usage of the function, assuming df is your DataFrame\n",
    "disease_name = get_disease_name(df)\n",
    "print(\"Disease to find synonyms for:\", disease_name)\n",
    "\n",
    "# Uncomment the DataFrame loading and function call line and replace with actual DataFrame loading line.\n"
   ]
  },
  {
   "cell_type": "code",
   "execution_count": 18,
   "id": "6808ea69-56ae-46b5-8cb4-f6e43fa59bf0",
   "metadata": {},
   "outputs": [
    {
     "data": {
      "text/plain": [
       "'Hayfever'"
      ]
     },
     "execution_count": 18,
     "metadata": {},
     "output_type": "execute_result"
    }
   ],
   "source": [
    "disease_name"
   ]
  },
  {
   "cell_type": "code",
   "execution_count": 20,
   "id": "947c8039-8849-430a-89f7-6cfedbf265e2",
   "metadata": {},
   "outputs": [
    {
     "name": "stdout",
     "output_type": "stream",
     "text": [
      "Prompt text loaded successfully:\n",
      "Prompt:\n",
      "\n",
      "You are tasked with providing synonyms for a specified disease, along with a score for each synonym to indicate its closeness to the original disease name. The score should range from 0 to 10, where 10 indicates a synonym that is essentially identical to the disease name.\n",
      "\n",
      "Task:\n",
      "\n",
      "For the disease \"Hayfever\", list all relevant synonyms. Each synonym should be accompanied by a score reflecting its similarity to \"Hayfever\". Scores close to 10 suggest high similarity, whereas lower scores indicate less similarity.\n",
      "\n",
      "For instance, \"hay fever\" is also known as \"allergic rhinitis.\" Typically, to find all synonymous terms for \"hay fever,\" I conduct a Google search to gather all relevant terms. These terms are then added to our disease database to ensure we capture all associated codes for the disease.\n",
      "\n",
      "\n",
      "\n",
      "Expectation:\n",
      "\n",
      "Direct Synonyms: List terms that are very similar or nearly identical to \"Hayfever\" with high scores.\n",
      "Related Terms: List terms that are related but less directly connected to \"Hayfever\" with lower scores.\n",
      "Your response should strictly include only the list of synonyms and their corresponding scores, with no additional text.\n"
     ]
    }
   ],
   "source": [
    "def read_and_customize_prompt(folder_path, file_name, disease_name):\n",
    "    \"\"\"\n",
    "    Reads the content of a text file, replaces placeholders with the actual disease name, and returns it.\n",
    "    \n",
    "    Args:\n",
    "    folder_path (str): The path to the folder containing the file.\n",
    "    file_name (str): The name of the text file to read.\n",
    "    disease_name (str): The disease name to insert into the prompt.\n",
    "    \n",
    "    Returns:\n",
    "    str: The customized content of the file.\n",
    "    \"\"\"\n",
    "    file_path = f\"{folder_path}/{file_name}\"\n",
    "    try:\n",
    "        with open(file_path, 'r', encoding='utf-8') as file:\n",
    "            prompt_template = file.read()\n",
    "            prompt_text = prompt_template.replace(\"{disease_name}\", disease_name)\n",
    "            return prompt_text\n",
    "    except FileNotFoundError:\n",
    "        print(f\"The file {file_name} was not found in {folder_path}.\")\n",
    "        return None\n",
    "    except Exception as e:\n",
    "        print(f\"An error occurred while reading the file: {e}\")\n",
    "        return None\n",
    "\n",
    "# Usage Example:\n",
    "folder_path = '01-prompts'\n",
    "file_name = '01-get-synonyms.txt'\n",
    "disease_name = 'Hayfever'  # Assume this is obtained dynamically elsewhere in your program\n",
    "prompt_text = read_and_customize_prompt(folder_path, file_name, disease_name)\n",
    "\n",
    "if prompt_text:\n",
    "    print(\"Prompt text loaded successfully:\")\n",
    "    print(prompt_text)\n",
    "else:\n",
    "    print(\"Failed to load the prompt text.\")\n"
   ]
  },
  {
   "cell_type": "code",
   "execution_count": null,
   "id": "2d3df7fd-d587-4aba-aa5e-1cccaf0a6c41",
   "metadata": {},
   "outputs": [],
   "source": [
    "from openai import OpenAI\n",
    "\n",
    "client = OpenAI()\n",
    "\n",
    "response = client.chat.completions.create(\n",
    "    model=\"gpt-4o-mini\",\n",
    "    messages=[\n",
    "        {\"role\": \"system\", \"content\": system_prompt},\n",
    "        {\"role\": \"user\", \"content\": user_prompt}\n",
    "    ],\n",
    "    response_format={\"type\": \"json_object\"}  # Setting the response to be in JSON mode\n",
    ")\n",
    "\n",
    "# Extracting the JSON output from the response\n",
    "json_output = response.choices[0].message.content\n",
    "print(json_output)\n"
   ]
  },
  {
   "cell_type": "code",
   "execution_count": null,
   "id": "1ab9789e-bd9b-4177-a596-63861ec16c8b",
   "metadata": {},
   "outputs": [],
   "source": [
    "import json\n",
    "\n",
    "# Parse the JSON string to a Python dictionary\n",
    "synonyms_data = json.loads(json_output)\n",
    "print(synonyms_data)\n"
   ]
  }
 ],
 "metadata": {
  "kernelspec": {
   "display_name": "Python 3 (ipykernel)",
   "language": "python",
   "name": "python3"
  },
  "language_info": {
   "codemirror_mode": {
    "name": "ipython",
    "version": 3
   },
   "file_extension": ".py",
   "mimetype": "text/x-python",
   "name": "python",
   "nbconvert_exporter": "python",
   "pygments_lexer": "ipython3",
   "version": "3.11.5"
  }
 },
 "nbformat": 4,
 "nbformat_minor": 5
}
